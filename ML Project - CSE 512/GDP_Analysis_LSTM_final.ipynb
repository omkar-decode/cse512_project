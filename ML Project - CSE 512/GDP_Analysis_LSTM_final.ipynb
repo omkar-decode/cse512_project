{
  "cells": [
    {
      "cell_type": "code",
      "execution_count": 2,
      "id": "0755d15f",
      "metadata": {
        "id": "0755d15f"
      },
      "outputs": [],
      "source": [
        "import pandas as pd\n",
        "import numpy as np\n",
        "import matplotlib.pyplot as plt\n",
        "import seaborn as sns\n",
        "\n",
        "import tensorflow as tf\n",
        "from tensorflow.keras.models import Sequential\n",
        "from tensorflow.keras.layers import Dense\n",
        "from tensorflow.keras.layers import LSTM"
      ]
    },
    {
      "cell_type": "code",
      "source": [
        "tf.random.set_seed(7)"
      ],
      "metadata": {
        "id": "XXgCvhxAgEKu"
      },
      "id": "XXgCvhxAgEKu",
      "execution_count": 3,
      "outputs": []
    },
    {
      "cell_type": "code",
      "source": [
        "gdp_Data= pd.read_csv('/content/sample_data/gdp_data.csv')\n",
        "\n",
        "df = gdp_Data[[ 'Tbill', 'PPINSA', 'CPI', 'M1NSA', 'Unemp', 'IndProd', 'RGDP' ]]\n",
        "descdf = df.describe()\n",
        "descdf"
      ],
      "metadata": {
        "colab": {
          "base_uri": "https://localhost:8080/",
          "height": 300
        },
        "id": "qeyTfX2wgKoe",
        "outputId": "3975ed0f-af5c-4fe7-f501-8b218f7e41f6"
      },
      "id": "qeyTfX2wgKoe",
      "execution_count": 5,
      "outputs": [
        {
          "output_type": "execute_result",
          "data": {
            "text/plain": [
              "            Tbill      PPINSA         CPI        M1NSA       Unemp  \\\n",
              "count  212.000000  212.000000  212.000000   212.000000  212.000000   \n",
              "mean     5.032547   98.845896  113.182028   754.642877    6.081981   \n",
              "std      2.993406   50.408646   65.310267   544.198580    1.614394   \n",
              "min      0.010000   31.470000   29.400000   138.400000    3.400000   \n",
              "25%      3.077500   44.015000   43.705000   253.097500    4.970000   \n",
              "50%      4.955000  103.350000  109.635000   665.300000    5.715000   \n",
              "75%      6.412500  128.447500  167.507500  1134.432500    7.130000   \n",
              "max     15.050000  203.830000  231.280000  2436.730000   10.670000   \n",
              "\n",
              "          IndProd          RGDP  \n",
              "count  212.000000    212.000000  \n",
              "mean    60.751840   7664.750472  \n",
              "std     23.479552   3390.652274  \n",
              "min     22.130000   2800.200000  \n",
              "25%     41.550000   4818.650000  \n",
              "50%     55.200000   7078.950000  \n",
              "75%     86.425000  10859.225000  \n",
              "max    100.510000  13665.400000  "
            ],
            "text/html": [
              "\n",
              "  <div id=\"df-faef3b22-451b-472e-9454-eb87c9de913f\">\n",
              "    <div class=\"colab-df-container\">\n",
              "      <div>\n",
              "<style scoped>\n",
              "    .dataframe tbody tr th:only-of-type {\n",
              "        vertical-align: middle;\n",
              "    }\n",
              "\n",
              "    .dataframe tbody tr th {\n",
              "        vertical-align: top;\n",
              "    }\n",
              "\n",
              "    .dataframe thead th {\n",
              "        text-align: right;\n",
              "    }\n",
              "</style>\n",
              "<table border=\"1\" class=\"dataframe\">\n",
              "  <thead>\n",
              "    <tr style=\"text-align: right;\">\n",
              "      <th></th>\n",
              "      <th>Tbill</th>\n",
              "      <th>PPINSA</th>\n",
              "      <th>CPI</th>\n",
              "      <th>M1NSA</th>\n",
              "      <th>Unemp</th>\n",
              "      <th>IndProd</th>\n",
              "      <th>RGDP</th>\n",
              "    </tr>\n",
              "  </thead>\n",
              "  <tbody>\n",
              "    <tr>\n",
              "      <th>count</th>\n",
              "      <td>212.000000</td>\n",
              "      <td>212.000000</td>\n",
              "      <td>212.000000</td>\n",
              "      <td>212.000000</td>\n",
              "      <td>212.000000</td>\n",
              "      <td>212.000000</td>\n",
              "      <td>212.000000</td>\n",
              "    </tr>\n",
              "    <tr>\n",
              "      <th>mean</th>\n",
              "      <td>5.032547</td>\n",
              "      <td>98.845896</td>\n",
              "      <td>113.182028</td>\n",
              "      <td>754.642877</td>\n",
              "      <td>6.081981</td>\n",
              "      <td>60.751840</td>\n",
              "      <td>7664.750472</td>\n",
              "    </tr>\n",
              "    <tr>\n",
              "      <th>std</th>\n",
              "      <td>2.993406</td>\n",
              "      <td>50.408646</td>\n",
              "      <td>65.310267</td>\n",
              "      <td>544.198580</td>\n",
              "      <td>1.614394</td>\n",
              "      <td>23.479552</td>\n",
              "      <td>3390.652274</td>\n",
              "    </tr>\n",
              "    <tr>\n",
              "      <th>min</th>\n",
              "      <td>0.010000</td>\n",
              "      <td>31.470000</td>\n",
              "      <td>29.400000</td>\n",
              "      <td>138.400000</td>\n",
              "      <td>3.400000</td>\n",
              "      <td>22.130000</td>\n",
              "      <td>2800.200000</td>\n",
              "    </tr>\n",
              "    <tr>\n",
              "      <th>25%</th>\n",
              "      <td>3.077500</td>\n",
              "      <td>44.015000</td>\n",
              "      <td>43.705000</td>\n",
              "      <td>253.097500</td>\n",
              "      <td>4.970000</td>\n",
              "      <td>41.550000</td>\n",
              "      <td>4818.650000</td>\n",
              "    </tr>\n",
              "    <tr>\n",
              "      <th>50%</th>\n",
              "      <td>4.955000</td>\n",
              "      <td>103.350000</td>\n",
              "      <td>109.635000</td>\n",
              "      <td>665.300000</td>\n",
              "      <td>5.715000</td>\n",
              "      <td>55.200000</td>\n",
              "      <td>7078.950000</td>\n",
              "    </tr>\n",
              "    <tr>\n",
              "      <th>75%</th>\n",
              "      <td>6.412500</td>\n",
              "      <td>128.447500</td>\n",
              "      <td>167.507500</td>\n",
              "      <td>1134.432500</td>\n",
              "      <td>7.130000</td>\n",
              "      <td>86.425000</td>\n",
              "      <td>10859.225000</td>\n",
              "    </tr>\n",
              "    <tr>\n",
              "      <th>max</th>\n",
              "      <td>15.050000</td>\n",
              "      <td>203.830000</td>\n",
              "      <td>231.280000</td>\n",
              "      <td>2436.730000</td>\n",
              "      <td>10.670000</td>\n",
              "      <td>100.510000</td>\n",
              "      <td>13665.400000</td>\n",
              "    </tr>\n",
              "  </tbody>\n",
              "</table>\n",
              "</div>\n",
              "      <button class=\"colab-df-convert\" onclick=\"convertToInteractive('df-faef3b22-451b-472e-9454-eb87c9de913f')\"\n",
              "              title=\"Convert this dataframe to an interactive table.\"\n",
              "              style=\"display:none;\">\n",
              "        \n",
              "  <svg xmlns=\"http://www.w3.org/2000/svg\" height=\"24px\"viewBox=\"0 0 24 24\"\n",
              "       width=\"24px\">\n",
              "    <path d=\"M0 0h24v24H0V0z\" fill=\"none\"/>\n",
              "    <path d=\"M18.56 5.44l.94 2.06.94-2.06 2.06-.94-2.06-.94-.94-2.06-.94 2.06-2.06.94zm-11 1L8.5 8.5l.94-2.06 2.06-.94-2.06-.94L8.5 2.5l-.94 2.06-2.06.94zm10 10l.94 2.06.94-2.06 2.06-.94-2.06-.94-.94-2.06-.94 2.06-2.06.94z\"/><path d=\"M17.41 7.96l-1.37-1.37c-.4-.4-.92-.59-1.43-.59-.52 0-1.04.2-1.43.59L10.3 9.45l-7.72 7.72c-.78.78-.78 2.05 0 2.83L4 21.41c.39.39.9.59 1.41.59.51 0 1.02-.2 1.41-.59l7.78-7.78 2.81-2.81c.8-.78.8-2.07 0-2.86zM5.41 20L4 18.59l7.72-7.72 1.47 1.35L5.41 20z\"/>\n",
              "  </svg>\n",
              "      </button>\n",
              "      \n",
              "  <style>\n",
              "    .colab-df-container {\n",
              "      display:flex;\n",
              "      flex-wrap:wrap;\n",
              "      gap: 12px;\n",
              "    }\n",
              "\n",
              "    .colab-df-convert {\n",
              "      background-color: #E8F0FE;\n",
              "      border: none;\n",
              "      border-radius: 50%;\n",
              "      cursor: pointer;\n",
              "      display: none;\n",
              "      fill: #1967D2;\n",
              "      height: 32px;\n",
              "      padding: 0 0 0 0;\n",
              "      width: 32px;\n",
              "    }\n",
              "\n",
              "    .colab-df-convert:hover {\n",
              "      background-color: #E2EBFA;\n",
              "      box-shadow: 0px 1px 2px rgba(60, 64, 67, 0.3), 0px 1px 3px 1px rgba(60, 64, 67, 0.15);\n",
              "      fill: #174EA6;\n",
              "    }\n",
              "\n",
              "    [theme=dark] .colab-df-convert {\n",
              "      background-color: #3B4455;\n",
              "      fill: #D2E3FC;\n",
              "    }\n",
              "\n",
              "    [theme=dark] .colab-df-convert:hover {\n",
              "      background-color: #434B5C;\n",
              "      box-shadow: 0px 1px 3px 1px rgba(0, 0, 0, 0.15);\n",
              "      filter: drop-shadow(0px 1px 2px rgba(0, 0, 0, 0.3));\n",
              "      fill: #FFFFFF;\n",
              "    }\n",
              "  </style>\n",
              "\n",
              "      <script>\n",
              "        const buttonEl =\n",
              "          document.querySelector('#df-faef3b22-451b-472e-9454-eb87c9de913f button.colab-df-convert');\n",
              "        buttonEl.style.display =\n",
              "          google.colab.kernel.accessAllowed ? 'block' : 'none';\n",
              "\n",
              "        async function convertToInteractive(key) {\n",
              "          const element = document.querySelector('#df-faef3b22-451b-472e-9454-eb87c9de913f');\n",
              "          const dataTable =\n",
              "            await google.colab.kernel.invokeFunction('convertToInteractive',\n",
              "                                                     [key], {});\n",
              "          if (!dataTable) return;\n",
              "\n",
              "          const docLinkHtml = 'Like what you see? Visit the ' +\n",
              "            '<a target=\"_blank\" href=https://colab.research.google.com/notebooks/data_table.ipynb>data table notebook</a>'\n",
              "            + ' to learn more about interactive tables.';\n",
              "          element.innerHTML = '';\n",
              "          dataTable['output_type'] = 'display_data';\n",
              "          await google.colab.output.renderOutput(dataTable, element);\n",
              "          const docLink = document.createElement('div');\n",
              "          docLink.innerHTML = docLinkHtml;\n",
              "          element.appendChild(docLink);\n",
              "        }\n",
              "      </script>\n",
              "    </div>\n",
              "  </div>\n",
              "  "
            ]
          },
          "metadata": {},
          "execution_count": 5
        }
      ]
    },
    {
      "cell_type": "code",
      "source": [
        "normalized_df=(df-df.mean())/df.std()\n",
        "display(normalized_df)\n",
        "df = normalized_df"
      ],
      "metadata": {
        "colab": {
          "base_uri": "https://localhost:8080/",
          "height": 424
        },
        "id": "pDMhQ9Uwi0AG",
        "outputId": "07b739cc-e292-430f-e190-035b8d534247"
      },
      "id": "pDMhQ9Uwi0AG",
      "execution_count": 6,
      "outputs": [
        {
          "output_type": "display_data",
          "data": {
            "text/plain": [
              "        Tbill    PPINSA       CPI     M1NSA     Unemp   IndProd      RGDP\n",
              "0   -0.388369 -1.332626 -1.282831 -1.128472 -0.589683 -1.568251 -1.421393\n",
              "1   -0.682349 -1.331436 -1.280228 -1.132386 -0.527741 -1.590398 -1.425316\n",
              "2   -0.892811 -1.333420 -1.279922 -1.130181 -0.341912 -1.607009 -1.423959\n",
              "3   -0.909515 -1.332031 -1.277013 -1.124540  0.116464 -1.630433 -1.434695\n",
              "4   -0.896152 -1.330048 -1.276094 -1.125348  0.444761 -1.644914 -1.429769\n",
              "..        ...       ...       ...       ...       ...       ...       ...\n",
              "207 -1.677870  2.021957  1.742268  2.593037  1.603090  1.472693  1.703581\n",
              "208 -1.657826  2.049730  1.762173  2.681608  1.355319  1.531041  1.722869\n",
              "209 -1.651145  2.042390  1.770900  2.763067  1.293376  1.555318  1.735285\n",
              "210 -1.647804  2.054292  1.789121  2.888334  1.206656  1.560428  1.765958\n",
              "211 -1.651145  2.051714  1.808260  3.090944  1.082771  1.586834  1.769763\n",
              "\n",
              "[212 rows x 7 columns]"
            ],
            "text/html": [
              "\n",
              "  <div id=\"df-0dbaaf0b-a19c-4e84-bed8-966888e96ae4\">\n",
              "    <div class=\"colab-df-container\">\n",
              "      <div>\n",
              "<style scoped>\n",
              "    .dataframe tbody tr th:only-of-type {\n",
              "        vertical-align: middle;\n",
              "    }\n",
              "\n",
              "    .dataframe tbody tr th {\n",
              "        vertical-align: top;\n",
              "    }\n",
              "\n",
              "    .dataframe thead th {\n",
              "        text-align: right;\n",
              "    }\n",
              "</style>\n",
              "<table border=\"1\" class=\"dataframe\">\n",
              "  <thead>\n",
              "    <tr style=\"text-align: right;\">\n",
              "      <th></th>\n",
              "      <th>Tbill</th>\n",
              "      <th>PPINSA</th>\n",
              "      <th>CPI</th>\n",
              "      <th>M1NSA</th>\n",
              "      <th>Unemp</th>\n",
              "      <th>IndProd</th>\n",
              "      <th>RGDP</th>\n",
              "    </tr>\n",
              "  </thead>\n",
              "  <tbody>\n",
              "    <tr>\n",
              "      <th>0</th>\n",
              "      <td>-0.388369</td>\n",
              "      <td>-1.332626</td>\n",
              "      <td>-1.282831</td>\n",
              "      <td>-1.128472</td>\n",
              "      <td>-0.589683</td>\n",
              "      <td>-1.568251</td>\n",
              "      <td>-1.421393</td>\n",
              "    </tr>\n",
              "    <tr>\n",
              "      <th>1</th>\n",
              "      <td>-0.682349</td>\n",
              "      <td>-1.331436</td>\n",
              "      <td>-1.280228</td>\n",
              "      <td>-1.132386</td>\n",
              "      <td>-0.527741</td>\n",
              "      <td>-1.590398</td>\n",
              "      <td>-1.425316</td>\n",
              "    </tr>\n",
              "    <tr>\n",
              "      <th>2</th>\n",
              "      <td>-0.892811</td>\n",
              "      <td>-1.333420</td>\n",
              "      <td>-1.279922</td>\n",
              "      <td>-1.130181</td>\n",
              "      <td>-0.341912</td>\n",
              "      <td>-1.607009</td>\n",
              "      <td>-1.423959</td>\n",
              "    </tr>\n",
              "    <tr>\n",
              "      <th>3</th>\n",
              "      <td>-0.909515</td>\n",
              "      <td>-1.332031</td>\n",
              "      <td>-1.277013</td>\n",
              "      <td>-1.124540</td>\n",
              "      <td>0.116464</td>\n",
              "      <td>-1.630433</td>\n",
              "      <td>-1.434695</td>\n",
              "    </tr>\n",
              "    <tr>\n",
              "      <th>4</th>\n",
              "      <td>-0.896152</td>\n",
              "      <td>-1.330048</td>\n",
              "      <td>-1.276094</td>\n",
              "      <td>-1.125348</td>\n",
              "      <td>0.444761</td>\n",
              "      <td>-1.644914</td>\n",
              "      <td>-1.429769</td>\n",
              "    </tr>\n",
              "    <tr>\n",
              "      <th>...</th>\n",
              "      <td>...</td>\n",
              "      <td>...</td>\n",
              "      <td>...</td>\n",
              "      <td>...</td>\n",
              "      <td>...</td>\n",
              "      <td>...</td>\n",
              "      <td>...</td>\n",
              "    </tr>\n",
              "    <tr>\n",
              "      <th>207</th>\n",
              "      <td>-1.677870</td>\n",
              "      <td>2.021957</td>\n",
              "      <td>1.742268</td>\n",
              "      <td>2.593037</td>\n",
              "      <td>1.603090</td>\n",
              "      <td>1.472693</td>\n",
              "      <td>1.703581</td>\n",
              "    </tr>\n",
              "    <tr>\n",
              "      <th>208</th>\n",
              "      <td>-1.657826</td>\n",
              "      <td>2.049730</td>\n",
              "      <td>1.762173</td>\n",
              "      <td>2.681608</td>\n",
              "      <td>1.355319</td>\n",
              "      <td>1.531041</td>\n",
              "      <td>1.722869</td>\n",
              "    </tr>\n",
              "    <tr>\n",
              "      <th>209</th>\n",
              "      <td>-1.651145</td>\n",
              "      <td>2.042390</td>\n",
              "      <td>1.770900</td>\n",
              "      <td>2.763067</td>\n",
              "      <td>1.293376</td>\n",
              "      <td>1.555318</td>\n",
              "      <td>1.735285</td>\n",
              "    </tr>\n",
              "    <tr>\n",
              "      <th>210</th>\n",
              "      <td>-1.647804</td>\n",
              "      <td>2.054292</td>\n",
              "      <td>1.789121</td>\n",
              "      <td>2.888334</td>\n",
              "      <td>1.206656</td>\n",
              "      <td>1.560428</td>\n",
              "      <td>1.765958</td>\n",
              "    </tr>\n",
              "    <tr>\n",
              "      <th>211</th>\n",
              "      <td>-1.651145</td>\n",
              "      <td>2.051714</td>\n",
              "      <td>1.808260</td>\n",
              "      <td>3.090944</td>\n",
              "      <td>1.082771</td>\n",
              "      <td>1.586834</td>\n",
              "      <td>1.769763</td>\n",
              "    </tr>\n",
              "  </tbody>\n",
              "</table>\n",
              "<p>212 rows × 7 columns</p>\n",
              "</div>\n",
              "      <button class=\"colab-df-convert\" onclick=\"convertToInteractive('df-0dbaaf0b-a19c-4e84-bed8-966888e96ae4')\"\n",
              "              title=\"Convert this dataframe to an interactive table.\"\n",
              "              style=\"display:none;\">\n",
              "        \n",
              "  <svg xmlns=\"http://www.w3.org/2000/svg\" height=\"24px\"viewBox=\"0 0 24 24\"\n",
              "       width=\"24px\">\n",
              "    <path d=\"M0 0h24v24H0V0z\" fill=\"none\"/>\n",
              "    <path d=\"M18.56 5.44l.94 2.06.94-2.06 2.06-.94-2.06-.94-.94-2.06-.94 2.06-2.06.94zm-11 1L8.5 8.5l.94-2.06 2.06-.94-2.06-.94L8.5 2.5l-.94 2.06-2.06.94zm10 10l.94 2.06.94-2.06 2.06-.94-2.06-.94-.94-2.06-.94 2.06-2.06.94z\"/><path d=\"M17.41 7.96l-1.37-1.37c-.4-.4-.92-.59-1.43-.59-.52 0-1.04.2-1.43.59L10.3 9.45l-7.72 7.72c-.78.78-.78 2.05 0 2.83L4 21.41c.39.39.9.59 1.41.59.51 0 1.02-.2 1.41-.59l7.78-7.78 2.81-2.81c.8-.78.8-2.07 0-2.86zM5.41 20L4 18.59l7.72-7.72 1.47 1.35L5.41 20z\"/>\n",
              "  </svg>\n",
              "      </button>\n",
              "      \n",
              "  <style>\n",
              "    .colab-df-container {\n",
              "      display:flex;\n",
              "      flex-wrap:wrap;\n",
              "      gap: 12px;\n",
              "    }\n",
              "\n",
              "    .colab-df-convert {\n",
              "      background-color: #E8F0FE;\n",
              "      border: none;\n",
              "      border-radius: 50%;\n",
              "      cursor: pointer;\n",
              "      display: none;\n",
              "      fill: #1967D2;\n",
              "      height: 32px;\n",
              "      padding: 0 0 0 0;\n",
              "      width: 32px;\n",
              "    }\n",
              "\n",
              "    .colab-df-convert:hover {\n",
              "      background-color: #E2EBFA;\n",
              "      box-shadow: 0px 1px 2px rgba(60, 64, 67, 0.3), 0px 1px 3px 1px rgba(60, 64, 67, 0.15);\n",
              "      fill: #174EA6;\n",
              "    }\n",
              "\n",
              "    [theme=dark] .colab-df-convert {\n",
              "      background-color: #3B4455;\n",
              "      fill: #D2E3FC;\n",
              "    }\n",
              "\n",
              "    [theme=dark] .colab-df-convert:hover {\n",
              "      background-color: #434B5C;\n",
              "      box-shadow: 0px 1px 3px 1px rgba(0, 0, 0, 0.15);\n",
              "      filter: drop-shadow(0px 1px 2px rgba(0, 0, 0, 0.3));\n",
              "      fill: #FFFFFF;\n",
              "    }\n",
              "  </style>\n",
              "\n",
              "      <script>\n",
              "        const buttonEl =\n",
              "          document.querySelector('#df-0dbaaf0b-a19c-4e84-bed8-966888e96ae4 button.colab-df-convert');\n",
              "        buttonEl.style.display =\n",
              "          google.colab.kernel.accessAllowed ? 'block' : 'none';\n",
              "\n",
              "        async function convertToInteractive(key) {\n",
              "          const element = document.querySelector('#df-0dbaaf0b-a19c-4e84-bed8-966888e96ae4');\n",
              "          const dataTable =\n",
              "            await google.colab.kernel.invokeFunction('convertToInteractive',\n",
              "                                                     [key], {});\n",
              "          if (!dataTable) return;\n",
              "\n",
              "          const docLinkHtml = 'Like what you see? Visit the ' +\n",
              "            '<a target=\"_blank\" href=https://colab.research.google.com/notebooks/data_table.ipynb>data table notebook</a>'\n",
              "            + ' to learn more about interactive tables.';\n",
              "          element.innerHTML = '';\n",
              "          dataTable['output_type'] = 'display_data';\n",
              "          await google.colab.output.renderOutput(dataTable, element);\n",
              "          const docLink = document.createElement('div');\n",
              "          docLink.innerHTML = docLinkHtml;\n",
              "          element.appendChild(docLink);\n",
              "        }\n",
              "      </script>\n",
              "    </div>\n",
              "  </div>\n",
              "  "
            ]
          },
          "metadata": {}
        }
      ]
    },
    {
      "cell_type": "code",
      "source": [
        "train_size = int(len(df) * 0.7)\n",
        "test_size = len(df) - train_size\n",
        "train, test = df[:train_size], df[train_size:]\n",
        "print(train.shape)\n",
        "print(test.shape)"
      ],
      "metadata": {
        "colab": {
          "base_uri": "https://localhost:8080/"
        },
        "id": "yzfJ82GugKvK",
        "outputId": "05d60316-6585-44f1-deaa-f53575f84eec"
      },
      "id": "yzfJ82GugKvK",
      "execution_count": 7,
      "outputs": [
        {
          "output_type": "stream",
          "name": "stdout",
          "text": [
            "(148, 7)\n",
            "(64, 7)\n"
          ]
        }
      ]
    },
    {
      "cell_type": "code",
      "source": [
        "# def create_dataset(dataset, look_back=1):\n",
        "#   print(len(dataset))\n",
        "#   dataX, dataY = [], []\n",
        "#   for i in range(len(dataset)-look_back-1):\n",
        "#     a = dataset.iloc[i:(i+look_back)]\n",
        "#     dataX.append(a)\n",
        "#     dataY.append(dataset.iloc[i+look_back, -1])\n",
        "#   return np.array(dataX), np.array(dataY)"
      ],
      "metadata": {
        "id": "l4t40o_cgKxi"
      },
      "id": "l4t40o_cgKxi",
      "execution_count": null,
      "outputs": []
    },
    {
      "cell_type": "code",
      "source": [
        "# look_back = 1\n",
        "# trainX, trainY = create_dataset(train, look_back)\n",
        "# testX, testY = create_dataset(test, look_back)"
      ],
      "metadata": {
        "id": "_kEdKDLWgK0K"
      },
      "id": "_kEdKDLWgK0K",
      "execution_count": 9,
      "outputs": []
    },
    {
      "cell_type": "code",
      "source": [
        "trainX = train.iloc[:]\n",
        "testX = test.iloc[:]"
      ],
      "metadata": {
        "id": "wAhn9zk5r4Ld"
      },
      "id": "wAhn9zk5r4Ld",
      "execution_count": 8,
      "outputs": []
    },
    {
      "cell_type": "code",
      "source": [
        "print(trainX.shape)\n",
        "print(testX.shape)"
      ],
      "metadata": {
        "colab": {
          "base_uri": "https://localhost:8080/"
        },
        "id": "F_ZOLit4mc_X",
        "outputId": "eac99f39-a372-40eb-ffa6-4f9c16cd33f8"
      },
      "id": "F_ZOLit4mc_X",
      "execution_count": 10,
      "outputs": [
        {
          "output_type": "stream",
          "name": "stdout",
          "text": [
            "(148, 7)\n",
            "(64, 7)\n"
          ]
        }
      ]
    },
    {
      "cell_type": "code",
      "source": [
        "# trainX = np.reshape(trainX, (trainX.shape[0], 1, trainX.shape[1]))\n",
        "# testX = np.reshape(testX, (testX.shape[0], 1, testX.shape[1]))\n",
        "# trainX = np.expand_dims(trainX, axis=1)\n",
        "# testX = np.expand_dims(testX, axis=1)\n",
        "# print(trainX.shape)\n",
        "# print(testX.shape)"
      ],
      "metadata": {
        "id": "OwXcdR-mgK28"
      },
      "id": "OwXcdR-mgK28",
      "execution_count": 11,
      "outputs": []
    },
    {
      "cell_type": "code",
      "source": [
        "def split_sequence(sequence, n_steps):\n",
        "  X, y = list(), list()\n",
        "  # print(len(sequence))\n",
        "  for i in range(len(sequence)):\n",
        "\t\t# find the end of this pattern\n",
        "    end_ix = i + n_steps\n",
        "\t\t# check if we are beyond the sequence\n",
        "    # print('checkpoint 1')\n",
        "    if end_ix > len(sequence)-1:\n",
        "      break\n",
        "    # print('checkpoint 2')\n",
        "    # print(i, end_ix)\n",
        "    # print(sequence[0:3])\n",
        "\t\t# gather input and output parts of the pattern\n",
        "    seq_x, seq_y = sequence[i:end_ix], sequence.iloc[end_ix]\n",
        "    # print('checkpoint 3')\n",
        "    X.append(seq_x)\n",
        "    y.append(seq_y)\n",
        "  return np.array(X), np.array(y)"
      ],
      "metadata": {
        "id": "4k4CObwkOvjB"
      },
      "id": "4k4CObwkOvjB",
      "execution_count": 12,
      "outputs": []
    },
    {
      "cell_type": "code",
      "source": [
        "# n_steps = 3\n",
        "# tX, tY = split_sequence(trainX.iloc[:,0], n_steps)\n"
      ],
      "metadata": {
        "id": "LwSBUVOtRl4g"
      },
      "id": "LwSBUVOtRl4g",
      "execution_count": 247,
      "outputs": []
    },
    {
      "cell_type": "code",
      "source": [
        "n_steps = 3\n",
        "models = []\n",
        "for feature in range(7):\n",
        "  tX, tY = split_sequence(trainX.iloc[:,feature], n_steps)\n",
        "  tX = np.expand_dims(tX, axis=1)\n",
        "  model = Sequential()\n",
        "  model.add(LSTM(1, input_shape=(1,n_steps)))\n",
        "  model.add(Dense(1))\n",
        "  model.compile(loss='mean_squared_error', optimizer='adam')\n",
        "  model.fit(tX, tY, epochs=20, batch_size=1, verbose=1)\n",
        "  models.append(model)"
      ],
      "metadata": {
        "colab": {
          "base_uri": "https://localhost:8080/"
        },
        "id": "zNXXtoumgK5Y",
        "outputId": "2a01f7e8-7808-4a52-a959-6672fd8ffcb0"
      },
      "id": "zNXXtoumgK5Y",
      "execution_count": 32,
      "outputs": [
        {
          "output_type": "stream",
          "name": "stdout",
          "text": [
            "Epoch 1/20\n",
            "145/145 [==============================] - 3s 2ms/step - loss: 0.9745\n",
            "Epoch 2/20\n",
            "145/145 [==============================] - 0s 2ms/step - loss: 0.9145\n",
            "Epoch 3/20\n",
            "145/145 [==============================] - 0s 2ms/step - loss: 0.8727\n",
            "Epoch 4/20\n",
            "145/145 [==============================] - 0s 2ms/step - loss: 0.8376\n",
            "Epoch 5/20\n",
            "145/145 [==============================] - 0s 2ms/step - loss: 0.8026\n",
            "Epoch 6/20\n",
            "145/145 [==============================] - 0s 3ms/step - loss: 0.7601\n",
            "Epoch 7/20\n",
            "145/145 [==============================] - 0s 3ms/step - loss: 0.7103\n",
            "Epoch 8/20\n",
            "145/145 [==============================] - 0s 2ms/step - loss: 0.6613\n",
            "Epoch 9/20\n",
            "145/145 [==============================] - 0s 2ms/step - loss: 0.6177\n",
            "Epoch 10/20\n",
            "145/145 [==============================] - 0s 2ms/step - loss: 0.5809\n",
            "Epoch 11/20\n",
            "145/145 [==============================] - 0s 2ms/step - loss: 0.5488\n",
            "Epoch 12/20\n",
            "145/145 [==============================] - 0s 2ms/step - loss: 0.5194\n",
            "Epoch 13/20\n",
            "145/145 [==============================] - 0s 2ms/step - loss: 0.4933\n",
            "Epoch 14/20\n",
            "145/145 [==============================] - 0s 2ms/step - loss: 0.4685\n",
            "Epoch 15/20\n",
            "145/145 [==============================] - 0s 2ms/step - loss: 0.4451\n",
            "Epoch 16/20\n",
            "145/145 [==============================] - 0s 2ms/step - loss: 0.4236\n",
            "Epoch 17/20\n",
            "145/145 [==============================] - 0s 2ms/step - loss: 0.4030\n",
            "Epoch 18/20\n",
            "145/145 [==============================] - 0s 2ms/step - loss: 0.3847\n",
            "Epoch 19/20\n",
            "145/145 [==============================] - 0s 2ms/step - loss: 0.3679\n",
            "Epoch 20/20\n",
            "145/145 [==============================] - 0s 2ms/step - loss: 0.3525\n",
            "Epoch 1/20\n",
            "145/145 [==============================] - 2s 2ms/step - loss: 0.5664\n",
            "Epoch 2/20\n",
            "145/145 [==============================] - 0s 2ms/step - loss: 0.4434\n",
            "Epoch 3/20\n",
            "145/145 [==============================] - 0s 2ms/step - loss: 0.3459\n",
            "Epoch 4/20\n",
            "145/145 [==============================] - 0s 2ms/step - loss: 0.2728\n",
            "Epoch 5/20\n",
            "145/145 [==============================] - 0s 3ms/step - loss: 0.2174\n",
            "Epoch 6/20\n",
            "145/145 [==============================] - 0s 2ms/step - loss: 0.1735\n",
            "Epoch 7/20\n",
            "145/145 [==============================] - 0s 2ms/step - loss: 0.1381\n",
            "Epoch 8/20\n",
            "145/145 [==============================] - 0s 2ms/step - loss: 0.1097\n",
            "Epoch 9/20\n",
            "145/145 [==============================] - 0s 2ms/step - loss: 0.0875\n",
            "Epoch 10/20\n",
            "145/145 [==============================] - 0s 2ms/step - loss: 0.0703\n",
            "Epoch 11/20\n",
            "145/145 [==============================] - 0s 2ms/step - loss: 0.0571\n",
            "Epoch 12/20\n",
            "145/145 [==============================] - 0s 3ms/step - loss: 0.0474\n",
            "Epoch 13/20\n",
            "145/145 [==============================] - 0s 2ms/step - loss: 0.0402\n",
            "Epoch 14/20\n",
            "145/145 [==============================] - 0s 2ms/step - loss: 0.0349\n",
            "Epoch 15/20\n",
            "145/145 [==============================] - 0s 2ms/step - loss: 0.0309\n",
            "Epoch 16/20\n",
            "145/145 [==============================] - 0s 2ms/step - loss: 0.0278\n",
            "Epoch 17/20\n",
            "145/145 [==============================] - 0s 2ms/step - loss: 0.0252\n",
            "Epoch 18/20\n",
            "145/145 [==============================] - 0s 3ms/step - loss: 0.0231\n",
            "Epoch 19/20\n",
            "145/145 [==============================] - 0s 2ms/step - loss: 0.0214\n",
            "Epoch 20/20\n",
            "145/145 [==============================] - 0s 2ms/step - loss: 0.0198\n",
            "Epoch 1/20\n",
            "145/145 [==============================] - 2s 2ms/step - loss: 0.4685\n",
            "Epoch 2/20\n",
            "145/145 [==============================] - 0s 2ms/step - loss: 0.3256\n",
            "Epoch 3/20\n",
            "145/145 [==============================] - 0s 2ms/step - loss: 0.2165\n",
            "Epoch 4/20\n",
            "145/145 [==============================] - 0s 2ms/step - loss: 0.1452\n",
            "Epoch 5/20\n",
            "145/145 [==============================] - 0s 2ms/step - loss: 0.1019\n",
            "Epoch 6/20\n",
            "145/145 [==============================] - 0s 2ms/step - loss: 0.0748\n",
            "Epoch 7/20\n",
            "145/145 [==============================] - 0s 2ms/step - loss: 0.0573\n",
            "Epoch 8/20\n",
            "145/145 [==============================] - 0s 2ms/step - loss: 0.0459\n",
            "Epoch 9/20\n",
            "145/145 [==============================] - 0s 2ms/step - loss: 0.0386\n",
            "Epoch 10/20\n",
            "145/145 [==============================] - 0s 2ms/step - loss: 0.0336\n",
            "Epoch 11/20\n",
            "145/145 [==============================] - 0s 2ms/step - loss: 0.0300\n",
            "Epoch 12/20\n",
            "145/145 [==============================] - 0s 2ms/step - loss: 0.0271\n",
            "Epoch 13/20\n",
            "145/145 [==============================] - 0s 2ms/step - loss: 0.0249\n",
            "Epoch 14/20\n",
            "145/145 [==============================] - 0s 2ms/step - loss: 0.0229\n",
            "Epoch 15/20\n",
            "145/145 [==============================] - 0s 2ms/step - loss: 0.0212\n",
            "Epoch 16/20\n",
            "145/145 [==============================] - 0s 2ms/step - loss: 0.0196\n",
            "Epoch 17/20\n",
            "145/145 [==============================] - 0s 2ms/step - loss: 0.0181\n",
            "Epoch 18/20\n",
            "145/145 [==============================] - 0s 2ms/step - loss: 0.0169\n",
            "Epoch 19/20\n",
            "145/145 [==============================] - 0s 2ms/step - loss: 0.0157\n",
            "Epoch 20/20\n",
            "145/145 [==============================] - 0s 2ms/step - loss: 0.0146\n",
            "Epoch 1/20\n",
            "145/145 [==============================] - 2s 2ms/step - loss: 0.5905\n",
            "Epoch 2/20\n",
            "145/145 [==============================] - 0s 2ms/step - loss: 0.4268\n",
            "Epoch 3/20\n",
            "145/145 [==============================] - 0s 2ms/step - loss: 0.2202\n",
            "Epoch 4/20\n",
            "145/145 [==============================] - 0s 2ms/step - loss: 0.1066\n",
            "Epoch 5/20\n",
            "145/145 [==============================] - 0s 2ms/step - loss: 0.0686\n",
            "Epoch 6/20\n",
            "145/145 [==============================] - 0s 2ms/step - loss: 0.0478\n",
            "Epoch 7/20\n",
            "145/145 [==============================] - 0s 2ms/step - loss: 0.0325\n",
            "Epoch 8/20\n",
            "145/145 [==============================] - 0s 2ms/step - loss: 0.0216\n",
            "Epoch 9/20\n",
            "145/145 [==============================] - 0s 2ms/step - loss: 0.0148\n",
            "Epoch 10/20\n",
            "145/145 [==============================] - 0s 2ms/step - loss: 0.0106\n",
            "Epoch 11/20\n",
            "145/145 [==============================] - 0s 2ms/step - loss: 0.0084\n",
            "Epoch 12/20\n",
            "145/145 [==============================] - 0s 2ms/step - loss: 0.0071\n",
            "Epoch 13/20\n",
            "145/145 [==============================] - 0s 2ms/step - loss: 0.0065\n",
            "Epoch 14/20\n",
            "145/145 [==============================] - 0s 2ms/step - loss: 0.0061\n",
            "Epoch 15/20\n",
            "145/145 [==============================] - 0s 2ms/step - loss: 0.0057\n",
            "Epoch 16/20\n",
            "145/145 [==============================] - 0s 2ms/step - loss: 0.0054\n",
            "Epoch 17/20\n",
            "145/145 [==============================] - 0s 2ms/step - loss: 0.0052\n",
            "Epoch 18/20\n",
            "145/145 [==============================] - 0s 2ms/step - loss: 0.0049\n",
            "Epoch 19/20\n",
            "145/145 [==============================] - 0s 2ms/step - loss: 0.0047\n",
            "Epoch 20/20\n",
            "145/145 [==============================] - 0s 2ms/step - loss: 0.0044\n",
            "Epoch 1/20\n",
            "145/145 [==============================] - 2s 2ms/step - loss: 0.7537\n",
            "Epoch 2/20\n",
            "145/145 [==============================] - 0s 2ms/step - loss: 0.7099\n",
            "Epoch 3/20\n",
            "145/145 [==============================] - 0s 2ms/step - loss: 0.6594\n",
            "Epoch 4/20\n",
            "145/145 [==============================] - 0s 2ms/step - loss: 0.6067\n",
            "Epoch 5/20\n",
            "145/145 [==============================] - 0s 2ms/step - loss: 0.5538\n",
            "Epoch 6/20\n",
            "145/145 [==============================] - 0s 2ms/step - loss: 0.5038\n",
            "Epoch 7/20\n",
            "145/145 [==============================] - 0s 2ms/step - loss: 0.4585\n",
            "Epoch 8/20\n",
            "145/145 [==============================] - 0s 2ms/step - loss: 0.4188\n",
            "Epoch 9/20\n",
            "145/145 [==============================] - 0s 2ms/step - loss: 0.3841\n",
            "Epoch 10/20\n",
            "145/145 [==============================] - 0s 2ms/step - loss: 0.3558\n",
            "Epoch 11/20\n",
            "145/145 [==============================] - 0s 2ms/step - loss: 0.3312\n",
            "Epoch 12/20\n",
            "145/145 [==============================] - 0s 2ms/step - loss: 0.3096\n",
            "Epoch 13/20\n",
            "145/145 [==============================] - 0s 2ms/step - loss: 0.2911\n",
            "Epoch 14/20\n",
            "145/145 [==============================] - 0s 2ms/step - loss: 0.2725\n",
            "Epoch 15/20\n",
            "145/145 [==============================] - 0s 2ms/step - loss: 0.2550\n",
            "Epoch 16/20\n",
            "145/145 [==============================] - 0s 2ms/step - loss: 0.2377\n",
            "Epoch 17/20\n",
            "145/145 [==============================] - 0s 2ms/step - loss: 0.2212\n",
            "Epoch 18/20\n",
            "145/145 [==============================] - 0s 3ms/step - loss: 0.2050\n",
            "Epoch 19/20\n",
            "145/145 [==============================] - 0s 3ms/step - loss: 0.1895\n",
            "Epoch 20/20\n",
            "145/145 [==============================] - 0s 3ms/step - loss: 0.1759\n",
            "Epoch 1/20\n",
            "145/145 [==============================] - 3s 2ms/step - loss: 0.3589\n",
            "Epoch 2/20\n",
            "145/145 [==============================] - 0s 2ms/step - loss: 0.1791\n",
            "Epoch 3/20\n",
            "145/145 [==============================] - 0s 2ms/step - loss: 0.1108\n",
            "Epoch 4/20\n",
            "145/145 [==============================] - 0s 2ms/step - loss: 0.0862\n",
            "Epoch 5/20\n",
            "145/145 [==============================] - 0s 2ms/step - loss: 0.0737\n",
            "Epoch 6/20\n",
            "145/145 [==============================] - 0s 2ms/step - loss: 0.0642\n",
            "Epoch 7/20\n",
            "145/145 [==============================] - 0s 2ms/step - loss: 0.0554\n",
            "Epoch 8/20\n",
            "145/145 [==============================] - 0s 2ms/step - loss: 0.0479\n",
            "Epoch 9/20\n",
            "145/145 [==============================] - 0s 2ms/step - loss: 0.0411\n",
            "Epoch 10/20\n",
            "145/145 [==============================] - 0s 2ms/step - loss: 0.0356\n",
            "Epoch 11/20\n",
            "145/145 [==============================] - 0s 2ms/step - loss: 0.0308\n",
            "Epoch 12/20\n",
            "145/145 [==============================] - 0s 2ms/step - loss: 0.0271\n",
            "Epoch 13/20\n",
            "145/145 [==============================] - 0s 2ms/step - loss: 0.0242\n",
            "Epoch 14/20\n",
            "145/145 [==============================] - 0s 2ms/step - loss: 0.0222\n",
            "Epoch 15/20\n",
            "145/145 [==============================] - 0s 2ms/step - loss: 0.0206\n",
            "Epoch 16/20\n",
            "145/145 [==============================] - 0s 2ms/step - loss: 0.0194\n",
            "Epoch 17/20\n",
            "145/145 [==============================] - 0s 2ms/step - loss: 0.0183\n",
            "Epoch 18/20\n",
            "145/145 [==============================] - 0s 2ms/step - loss: 0.0173\n",
            "Epoch 19/20\n",
            "145/145 [==============================] - 0s 2ms/step - loss: 0.0166\n",
            "Epoch 20/20\n",
            "145/145 [==============================] - 0s 2ms/step - loss: 0.0159\n",
            "Epoch 1/20\n",
            "145/145 [==============================] - 2s 2ms/step - loss: 0.6338\n",
            "Epoch 2/20\n",
            "145/145 [==============================] - 0s 2ms/step - loss: 0.4535\n",
            "Epoch 3/20\n",
            "145/145 [==============================] - 0s 2ms/step - loss: 0.3200\n",
            "Epoch 4/20\n",
            "145/145 [==============================] - 0s 2ms/step - loss: 0.2170\n",
            "Epoch 5/20\n",
            "145/145 [==============================] - 0s 2ms/step - loss: 0.1619\n",
            "Epoch 6/20\n",
            "145/145 [==============================] - 0s 2ms/step - loss: 0.1344\n",
            "Epoch 7/20\n",
            "145/145 [==============================] - 0s 2ms/step - loss: 0.1167\n",
            "Epoch 8/20\n",
            "145/145 [==============================] - 0s 2ms/step - loss: 0.1030\n",
            "Epoch 9/20\n",
            "145/145 [==============================] - 0s 2ms/step - loss: 0.0907\n",
            "Epoch 10/20\n",
            "145/145 [==============================] - 0s 2ms/step - loss: 0.0794\n",
            "Epoch 11/20\n",
            "145/145 [==============================] - 0s 2ms/step - loss: 0.0684\n",
            "Epoch 12/20\n",
            "145/145 [==============================] - 0s 2ms/step - loss: 0.0584\n",
            "Epoch 13/20\n",
            "145/145 [==============================] - 0s 2ms/step - loss: 0.0492\n",
            "Epoch 14/20\n",
            "145/145 [==============================] - 0s 2ms/step - loss: 0.0412\n",
            "Epoch 15/20\n",
            "145/145 [==============================] - 0s 2ms/step - loss: 0.0342\n",
            "Epoch 16/20\n",
            "145/145 [==============================] - 0s 2ms/step - loss: 0.0284\n",
            "Epoch 17/20\n",
            "145/145 [==============================] - 0s 2ms/step - loss: 0.0237\n",
            "Epoch 18/20\n",
            "145/145 [==============================] - 0s 2ms/step - loss: 0.0201\n",
            "Epoch 19/20\n",
            "145/145 [==============================] - 0s 2ms/step - loss: 0.0176\n",
            "Epoch 20/20\n",
            "145/145 [==============================] - 0s 2ms/step - loss: 0.0157\n"
          ]
        }
      ]
    },
    {
      "cell_type": "code",
      "source": [
        "# for feature, model in enumerate(models):\n",
        "#   print('checkpoint ' + str(feature))\n",
        "#   tesX, tesY = split_sequence(testX.iloc[:,feature], n_steps)\n",
        "print(testX.shape)"
      ],
      "metadata": {
        "colab": {
          "base_uri": "https://localhost:8080/"
        },
        "id": "xlmizBRQVNni",
        "outputId": "01d0835a-b5e0-4a6d-8adf-f75a3417233d"
      },
      "id": "xlmizBRQVNni",
      "execution_count": 321,
      "outputs": [
        {
          "output_type": "stream",
          "name": "stdout",
          "text": [
            "(64, 7)\n"
          ]
        }
      ]
    },
    {
      "cell_type": "code",
      "source": [
        "train_predictions = []\n",
        "test_predictions = []\n",
        "for feature in range(7):\n",
        "  tX, tY = split_sequence(trainX.iloc[:,feature], n_steps)\n",
        "  tesX, tesY = split_sequence(testX.iloc[:,feature], n_steps)\n",
        "  tX = np.expand_dims(tX, axis=1)\n",
        "  tesX = np.expand_dims(tesX, axis=1)\n",
        "  trainPredict = models[feature].predict(tX)\n",
        "  testPredict = models[feature].predict(tesX)\n",
        "  \n",
        "  train_predictions.append(trainPredict)\n",
        "  test_predictions.append(testPredict)"
      ],
      "metadata": {
        "colab": {
          "base_uri": "https://localhost:8080/"
        },
        "id": "uExNBR3kgK74",
        "outputId": "849c4d41-9202-4487-d146-e7c5b2e84864"
      },
      "id": "uExNBR3kgK74",
      "execution_count": 33,
      "outputs": [
        {
          "output_type": "stream",
          "name": "stdout",
          "text": [
            "5/5 [==============================] - 1s 4ms/step\n",
            "2/2 [==============================] - 0s 7ms/step\n",
            "5/5 [==============================] - 0s 3ms/step\n",
            "2/2 [==============================] - 0s 7ms/step\n",
            "5/5 [==============================] - 0s 3ms/step\n",
            "2/2 [==============================] - 0s 6ms/step\n",
            "5/5 [==============================] - 0s 3ms/step\n",
            "2/2 [==============================] - 0s 7ms/step\n",
            "5/5 [==============================] - 0s 3ms/step\n",
            "2/2 [==============================] - 0s 8ms/step\n",
            "5/5 [==============================] - 0s 3ms/step\n",
            "2/2 [==============================] - 0s 7ms/step\n",
            "5/5 [==============================] - 0s 3ms/step\n",
            "2/2 [==============================] - 0s 5ms/step\n"
          ]
        }
      ]
    },
    {
      "cell_type": "code",
      "source": [
        "# def data_integration(data):\n",
        "#     data = data.cumsum()\n",
        "#     return data"
      ],
      "metadata": {
        "id": "fXB_pmlZgK-P"
      },
      "id": "fXB_pmlZgK-P",
      "execution_count": 209,
      "outputs": []
    },
    {
      "cell_type": "code",
      "source": [
        "# def data_differencing(data):\n",
        "#     pd.DataFrame(\n",
        "#     seed_row = data.iloc[0:1, :]\n",
        "#     diff_data = data.diff().dropna()\n",
        "#     diff_data = pd.concat([seed_row, diff_data])\n",
        "#     return diff_data"
      ],
      "metadata": {
        "id": "pfjM5Hf3-3_W"
      },
      "id": "pfjM5Hf3-3_W",
      "execution_count": null,
      "outputs": []
    },
    {
      "cell_type": "code",
      "source": [
        "# trainPredict = data_integration(trainPredict)\n",
        "# trainY = data_integration(trainY)\n",
        "# testPredict = data_integration(testPredict)\n",
        "# testY = data_integration(testY)\n",
        "\n",
        "# trainPredict = data_differencing(trainPredict)\n",
        "# testPredict = data_differencing(testPredict)"
      ],
      "metadata": {
        "id": "O_FrV4YbgLAf"
      },
      "id": "O_FrV4YbgLAf",
      "execution_count": 215,
      "outputs": []
    },
    {
      "cell_type": "code",
      "source": [
        "print(trainPredict.shape)\n",
        "print(testPredict.shape)"
      ],
      "metadata": {
        "colab": {
          "base_uri": "https://localhost:8080/"
        },
        "id": "euje_XVgruvT",
        "outputId": "6074dba6-4fe8-4b65-d9ec-1be73fb392e8"
      },
      "id": "euje_XVgruvT",
      "execution_count": 338,
      "outputs": [
        {
          "output_type": "stream",
          "name": "stdout",
          "text": [
            "(145, 1)\n",
            "(61, 1)\n"
          ]
        }
      ]
    },
    {
      "cell_type": "code",
      "source": [
        "from sklearn.metrics import mean_squared_error\n",
        "\n",
        "trainScore = np.sqrt(mean_squared_error(tY, trainPredict))\n",
        "print('Train Score: %.2f RMSE' % (trainScore))\n",
        "testScore = np.sqrt(mean_squared_error(tesY, testPredict))\n",
        "print('Test Score: %.2f RMSE' % (testScore))"
      ],
      "metadata": {
        "colab": {
          "base_uri": "https://localhost:8080/"
        },
        "id": "G3Hwobs6gLCn",
        "outputId": "33c0da57-ee0d-464b-9519-f18bfa611a27"
      },
      "id": "G3Hwobs6gLCn",
      "execution_count": 415,
      "outputs": [
        {
          "output_type": "stream",
          "name": "stdout",
          "text": [
            "Train Score: 0.05 RMSE\n",
            "Test Score: 1.11 RMSE\n"
          ]
        }
      ]
    },
    {
      "cell_type": "code",
      "source": [],
      "metadata": {
        "id": "gRQXCJofx4Cr"
      },
      "id": "gRQXCJofx4Cr",
      "execution_count": null,
      "outputs": []
    },
    {
      "cell_type": "code",
      "source": [
        "n_plots = gdp_Data.shape[1]-1\n",
        "\n",
        "fig, axs = plt.subplots(n_plots, 1, figsize=(10, 20))\n",
        "\n",
        "for i, column in enumerate(gdp_Data.columns):\n",
        "    ax = axs[i-1]\n",
        "    # preds_final = train_predictions[i-1]\n",
        "    # preds_final = np.append(preds_final, test_predictions[i-1])\n",
        "    preds_final_x = range(146,207)\n",
        "    preds_final = test_predictions[i-1]\n",
        "\n",
        "    ax.plot(np.append(trainX.iloc[:, i-1], testX.iloc[:, i-1]))\n",
        "    ax.plot(preds_final_x, preds_final)\n",
        "    ax.legend(['True', 'Forecasted'])\n",
        "    ax.set_title(column)\n",
        "    \n",
        "plt.tight_layout()"
      ],
      "metadata": {
        "colab": {
          "base_uri": "https://localhost:8080/",
          "height": 1000
        },
        "id": "FH1TZ4FHxTXI",
        "outputId": "6e614563-6291-4ecf-abc6-e882b58b8bdc"
      },
      "id": "FH1TZ4FHxTXI",
      "execution_count": 53,
      "outputs": [
        {
          "output_type": "display_data",
          "data": {
            "text/plain": [
              "<Figure size 720x1440 with 7 Axes>"
            ],
            "image/png": "[encoded data removed]"
          },
          "metadata": {
            "needs_background": "light"
          }
        }
      ]
    },
    {
      "cell_type": "code",
      "source": [
        "trainPredictPlot = train_predictions[0]\n",
        "plt.plot(trainPredictPlot)\n",
        "plt.plot(tY)\n",
        "plt.title('GDP Train Predictions')\n",
        "plt.tight_layout()\n",
        "plt.show()"
      ],
      "metadata": {
        "colab": {
          "base_uri": "https://localhost:8080/",
          "height": 297
        },
        "id": "T78W_U8PgLE_",
        "outputId": "4ef4c42b-d675-4d57-ff62-be6dc439ef33"
      },
      "id": "T78W_U8PgLE_",
      "execution_count": 35,
      "outputs": [
        {
          "output_type": "display_data",
          "data": {
            "text/plain": [
              "<Figure size 432x288 with 1 Axes>"
            ],
            "image/png": "[encoded data removed]"
          },
          "metadata": {
            "needs_background": "light"
          }
        }
      ]
    },
    {
      "cell_type": "code",
      "source": [
        "testPredictPlot = testPredict\n",
        "plt.plot(range(151,212), testPredictPlot)\n",
        "plt.plot(range(151,212), tesY)\n",
        "plt.title('GDP Test Predictions')\n",
        "plt.tight_layout()\n",
        "plt.show()"
      ],
      "metadata": {
        "colab": {
          "base_uri": "https://localhost:8080/",
          "height": 297
        },
        "id": "Ju757UxN1tbf",
        "outputId": "0be6882f-d1e6-4867-e99d-aa724db1d1cf"
      },
      "id": "Ju757UxN1tbf",
      "execution_count": 28,
      "outputs": [
        {
          "output_type": "display_data",
          "data": {
            "text/plain": [
              "<Figure size 432x288 with 1 Axes>"
            ],
            "image/png": "[encoded data removed]"
          },
          "metadata": {
            "needs_background": "light"
          }
        }
      ]
    }
  ],
  "metadata": {
    "kernelspec": {
      "display_name": "Python 3 (ipykernel)",
      "language": "python",
      "name": "python3"
    },
    "language_info": {
      "codemirror_mode": {
        "name": "ipython",
        "version": 3
      },
      "file_extension": ".py",
      "mimetype": "text/x-python",
      "name": "python",
      "nbconvert_exporter": "python",
      "pygments_lexer": "ipython3",
      "version": "3.9.12"
    },
    "colab": {
      "provenance": []
    },
    "gpuClass": "standard"
  },
  "nbformat": 4,
  "nbformat_minor": 5
}